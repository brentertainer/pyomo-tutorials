{
 "cells": [
  {
   "cell_type": "code",
   "execution_count": null,
   "id": "e68b1292",
   "metadata": {},
   "outputs": [],
   "source": [
    "import os\n",
    "import pandas as pd\n",
    "import pyomo.environ as penv"
   ]
  },
  {
   "cell_type": "markdown",
   "id": "2a4024e7",
   "metadata": {},
   "source": [
    "This notebook presents two different ways of loading Excel data to parameterize the problem from [this example](https://github.com/brentertainer/pyomo-tutorials/blob/master/introduction/02-lp-pyomo.ipynb) using `pandas`."
   ]
  },
  {
   "cell_type": "code",
   "execution_count": null,
   "id": "5429b2c1",
   "metadata": {},
   "outputs": [],
   "source": [
    "M = 10000"
   ]
  },
  {
   "cell_type": "markdown",
   "id": "0233750d",
   "metadata": {},
   "source": [
    "# From Tabular Data"
   ]
  },
  {
   "cell_type": "code",
   "execution_count": null,
   "id": "bd30ce46",
   "metadata": {},
   "outputs": [],
   "source": [
    "df_table = pd.read_excel(os.path.join('data', 'assignment.xlsx'),\n",
    "                         sheet_name='table',\n",
    "                         header=0,\n",
    "                         index_col=0)\n",
    "workers1 = df_table.index.tolist()\n",
    "tasks1 = df_table.columns.tolist()\n",
    "display(workers1)\n",
    "display(tasks1)\n",
    "display(df_table)"
   ]
  },
  {
   "cell_type": "code",
   "execution_count": null,
   "id": "030eac46",
   "metadata": {},
   "outputs": [],
   "source": [
    "df_table.fillna(M).stack()"
   ]
  },
  {
   "cell_type": "code",
   "execution_count": null,
   "id": "6a46711e",
   "metadata": {},
   "outputs": [],
   "source": [
    "data1 = df_table.fillna(M).stack().to_dict()\n",
    "display(data1)"
   ]
  },
  {
   "cell_type": "code",
   "execution_count": null,
   "id": "dc40cc2f",
   "metadata": {},
   "outputs": [],
   "source": [
    "m1 = penv.ConcreteModel()\n",
    "m1.workers = penv.Set(initialize=workers1)\n",
    "m1.tasks = penv.Set(initialize=tasks1)\n",
    "m1.time = penv.Param(m1.workers, m1.tasks, initialize=data1)\n",
    "m1.time.display()"
   ]
  },
  {
   "cell_type": "markdown",
   "id": "9c54f9fc",
   "metadata": {},
   "source": [
    "# From Key-Value Pairs"
   ]
  },
  {
   "cell_type": "code",
   "execution_count": null,
   "id": "a70d1a82",
   "metadata": {},
   "outputs": [],
   "source": [
    "df_keyval = pd.read_excel(os.path.join('data', 'assignment.xlsx'),\n",
    "                          sheet_name='keyval',\n",
    "                          header=None,\n",
    "                          index_col=[0, 1],  # first two columns are the tuple key\n",
    "                          squeeze=True)\n",
    "workers2 = df_keyval.index.get_level_values(0).unique().tolist()\n",
    "tasks2 = df_keyval.index.get_level_values(1).unique().tolist()\n",
    "display(workers2)\n",
    "display(tasks2)\n",
    "display(df_keyval)"
   ]
  },
  {
   "cell_type": "code",
   "execution_count": null,
   "id": "3bff3e7c",
   "metadata": {},
   "outputs": [],
   "source": [
    "df_keyval.fillna(M)"
   ]
  },
  {
   "cell_type": "code",
   "execution_count": null,
   "id": "5b6ca1ea",
   "metadata": {},
   "outputs": [],
   "source": [
    "data2 = df_keyval.fillna(M).to_dict()\n",
    "display(data2)"
   ]
  },
  {
   "cell_type": "code",
   "execution_count": null,
   "id": "04b4fa61",
   "metadata": {},
   "outputs": [],
   "source": [
    "m2 = penv.ConcreteModel()\n",
    "m2.workers = penv.Set(initialize=workers2)\n",
    "m2.tasks = penv.Set(initialize=tasks2)\n",
    "m2.time = penv.Param(m2.workers, m2.tasks, initialize=data2)\n",
    "m2.time.display()"
   ]
  }
 ],
 "metadata": {
  "kernelspec": {
   "display_name": "Python 3 (ipykernel)",
   "language": "python",
   "name": "python3"
  },
  "language_info": {
   "codemirror_mode": {
    "name": "ipython",
    "version": 3
   },
   "file_extension": ".py",
   "mimetype": "text/x-python",
   "name": "python",
   "nbconvert_exporter": "python",
   "pygments_lexer": "ipython3",
   "version": "3.8.12"
  }
 },
 "nbformat": 4,
 "nbformat_minor": 5
}
